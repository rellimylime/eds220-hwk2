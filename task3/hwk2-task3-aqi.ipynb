{
 "cells": [
  {
   "cell_type": "code",
   "execution_count": 1,
   "metadata": {
    "deletable": false,
    "editable": false,
    "tags": []
   },
   "outputs": [],
   "source": [
    "# Initialize Otter\n",
    "import otter\n",
    "grader = otter.Notebook(\"hwk2-task3-aqi.ipynb\")"
   ]
  },
  {
   "cell_type": "markdown",
   "metadata": {},
   "source": [
    "# Task 3: Visualizing AQI during the 2017 Thomas Fire in Santa Barbara County\n",
    "\n",
    "This task covers topics on the lesson on [time series](https://meds-eds-220.github.io/MEDS-eds-220-course/book/chapters/lesson-7-time-series.html). \n",
    "\n",
    "## Instructions \n",
    "\n",
    "- First, update the following cell to have a link to *your* Homework 2 GitHub repository:\n",
    "\n",
    "**UPDATE THIS LINK**\n",
    "https://github.com/rellimylime/eds220-hwk2.git\n",
    "\n",
    "\n",
    "- Review the [complete rubric for this task](https://docs.google.com/document/d/131OnUDOLpOl94SlaMU9nGqT998ABrjFS/edit?usp=sharing&ouid=111507336322611936333&rtpof=true&sd=true) before starting.\n",
    "\n",
    "- **Make at least 5 commits. Generally, commit every time you finish a major step.** We'll check your repository and view the commit history.\n",
    "\n",
    "- **Add comments for all your code.** Err on the side of commenting too much for now. Comments should follow best practices.\n",
    "\n",
    "- **Do not update the top cell with the `otter` import**, this is used internally for grading.\n",
    "\n",
    "\n",
    "## About the data\n",
    "\n",
    "In this task you will use [Air Quality Index (AQI)](https://www.airnow.gov/aqi/aqi-basics/) data from the [US Environmental Protection Agency](https://www.epa.gov) to visualize the impact on the AQI of the 2017 [Thomas Fire](https://en.wikipedia.org/wiki/Thomas_Fire) in Santa Barbara County. "
   ]
  },
  {
   "cell_type": "markdown",
   "metadata": {},
   "source": [
    "## FINAL CODE\n",
    "\n",
    "You will use the next code cell to complete the last exercise in the task. Leave it blank for now. "
   ]
  },
  {
   "cell_type": "code",
   "execution_count": null,
   "metadata": {
    "tags": []
   },
   "outputs": [],
   "source": []
  },
  {
   "cell_type": "markdown",
   "metadata": {},
   "source": [
    "## 1\n",
    "\n",
    "a. Read the [Air Quality Index (AQI) Basics](https://www.airnow.gov/aqi/aqi-basics/) from the AirNow.gov portal."
   ]
  },
  {
   "cell_type": "markdown",
   "metadata": {},
   "source": [
    "b. Go to [EPA's website on Air Quality Data Collected at Outdoor Monitors Across the US](https://www.epa.gov/outdoor-air-quality-data). "
   ]
  },
  {
   "cell_type": "markdown",
   "metadata": {},
   "source": [
    "c. Under \"Donwload Data\", click on \"Pre-generated Data Files\"."
   ]
  },
  {
   "cell_type": "markdown",
   "metadata": {},
   "source": [
    "d. Read the \"About the data\" section."
   ]
  },
  {
   "cell_type": "markdown",
   "metadata": {},
   "source": [
    "## 2\n",
    "a. Back in the \"Pre-generated Data Files\" site, click on \"Tables of Daily AQI\".\n",
    "\n",
    "b. Copy the URL to the 2017 Daily AQI **by County** ZIP file `daily_aqi_by_county_2017.zip`\n",
    "\n",
    "Notice we'll be reding the data directly from its ZIP file link. This ZIP file contains a single CSV that has been compressed to save space. "
   ]
  },
  {
   "cell_type": "markdown",
   "metadata": {
    "deletable": false,
    "editable": false
   },
   "source": [
    "<!-- BEGIN QUESTION -->\n",
    "\n",
    "c. In the next code cell read in the data from the URL using the [`pd.read_csv`](https://pandas.pydata.org/docs/reference/api/pandas.read_csv.html) function with the `compression='zip'` parameter added and store it as `aqi_17`. \n",
    "\n",
    "d. In the same cell, read in the data for the 2018 Daily AQI by County ZIP file and store it as `aqi_18`."
   ]
  },
  {
   "cell_type": "code",
   "execution_count": 2,
   "metadata": {
    "tags": []
   },
   "outputs": [],
   "source": [
    "# Import necessary libraries\n",
    "import pandas as pd\n",
    "\n",
    "# Read in data\n",
    "aqi_17 = pd.read_csv('https://aqs.epa.gov/aqsweb/airdata/daily_aqi_by_county_2017.zip', compression = 'zip')\n",
    "aqi_18 = pd.read_csv('https://aqs.epa.gov/aqsweb/airdata/daily_aqi_by_county_2018.zip', compression = 'zip')"
   ]
  },
  {
   "cell_type": "markdown",
   "metadata": {
    "deletable": false,
    "editable": false
   },
   "source": [
    "<!-- END QUESTION -->\n",
    "\n",
    "## 3\n",
    "a. and b. Use the next two code cells to look at the head of both data frames. Store your results in `aqi_17_head` and `aqi_18_head`. "
   ]
  },
  {
   "cell_type": "code",
   "execution_count": 3,
   "metadata": {
    "tags": []
   },
   "outputs": [
    {
     "data": {
      "text/html": [
       "<div>\n",
       "<style scoped>\n",
       "    .dataframe tbody tr th:only-of-type {\n",
       "        vertical-align: middle;\n",
       "    }\n",
       "\n",
       "    .dataframe tbody tr th {\n",
       "        vertical-align: top;\n",
       "    }\n",
       "\n",
       "    .dataframe thead th {\n",
       "        text-align: right;\n",
       "    }\n",
       "</style>\n",
       "<table border=\"1\" class=\"dataframe\">\n",
       "  <thead>\n",
       "    <tr style=\"text-align: right;\">\n",
       "      <th></th>\n",
       "      <th>State Name</th>\n",
       "      <th>county Name</th>\n",
       "      <th>State Code</th>\n",
       "      <th>County Code</th>\n",
       "      <th>Date</th>\n",
       "      <th>AQI</th>\n",
       "      <th>Category</th>\n",
       "      <th>Defining Parameter</th>\n",
       "      <th>Defining Site</th>\n",
       "      <th>Number of Sites Reporting</th>\n",
       "    </tr>\n",
       "  </thead>\n",
       "  <tbody>\n",
       "    <tr>\n",
       "      <th>0</th>\n",
       "      <td>Alabama</td>\n",
       "      <td>Baldwin</td>\n",
       "      <td>1</td>\n",
       "      <td>3</td>\n",
       "      <td>2017-01-01</td>\n",
       "      <td>28</td>\n",
       "      <td>Good</td>\n",
       "      <td>PM2.5</td>\n",
       "      <td>01-003-0010</td>\n",
       "      <td>1</td>\n",
       "    </tr>\n",
       "    <tr>\n",
       "      <th>1</th>\n",
       "      <td>Alabama</td>\n",
       "      <td>Baldwin</td>\n",
       "      <td>1</td>\n",
       "      <td>3</td>\n",
       "      <td>2017-01-04</td>\n",
       "      <td>29</td>\n",
       "      <td>Good</td>\n",
       "      <td>PM2.5</td>\n",
       "      <td>01-003-0010</td>\n",
       "      <td>1</td>\n",
       "    </tr>\n",
       "    <tr>\n",
       "      <th>2</th>\n",
       "      <td>Alabama</td>\n",
       "      <td>Baldwin</td>\n",
       "      <td>1</td>\n",
       "      <td>3</td>\n",
       "      <td>2017-01-10</td>\n",
       "      <td>25</td>\n",
       "      <td>Good</td>\n",
       "      <td>PM2.5</td>\n",
       "      <td>01-003-0010</td>\n",
       "      <td>1</td>\n",
       "    </tr>\n",
       "    <tr>\n",
       "      <th>3</th>\n",
       "      <td>Alabama</td>\n",
       "      <td>Baldwin</td>\n",
       "      <td>1</td>\n",
       "      <td>3</td>\n",
       "      <td>2017-01-13</td>\n",
       "      <td>40</td>\n",
       "      <td>Good</td>\n",
       "      <td>PM2.5</td>\n",
       "      <td>01-003-0010</td>\n",
       "      <td>1</td>\n",
       "    </tr>\n",
       "    <tr>\n",
       "      <th>4</th>\n",
       "      <td>Alabama</td>\n",
       "      <td>Baldwin</td>\n",
       "      <td>1</td>\n",
       "      <td>3</td>\n",
       "      <td>2017-01-16</td>\n",
       "      <td>22</td>\n",
       "      <td>Good</td>\n",
       "      <td>PM2.5</td>\n",
       "      <td>01-003-0010</td>\n",
       "      <td>1</td>\n",
       "    </tr>\n",
       "  </tbody>\n",
       "</table>\n",
       "</div>"
      ],
      "text/plain": [
       "  State Name county Name  State Code  County Code        Date  AQI Category  \\\n",
       "0    Alabama     Baldwin           1            3  2017-01-01   28     Good   \n",
       "1    Alabama     Baldwin           1            3  2017-01-04   29     Good   \n",
       "2    Alabama     Baldwin           1            3  2017-01-10   25     Good   \n",
       "3    Alabama     Baldwin           1            3  2017-01-13   40     Good   \n",
       "4    Alabama     Baldwin           1            3  2017-01-16   22     Good   \n",
       "\n",
       "  Defining Parameter Defining Site  Number of Sites Reporting  \n",
       "0              PM2.5   01-003-0010                          1  \n",
       "1              PM2.5   01-003-0010                          1  \n",
       "2              PM2.5   01-003-0010                          1  \n",
       "3              PM2.5   01-003-0010                          1  \n",
       "4              PM2.5   01-003-0010                          1  "
      ]
     },
     "execution_count": 3,
     "metadata": {},
     "output_type": "execute_result"
    }
   ],
   "source": [
    "# a.\n",
    "aqi_17_head = aqi_17.head()\n",
    "aqi_17_head"
   ]
  },
  {
   "cell_type": "code",
   "execution_count": 4,
   "metadata": {
    "scrolled": true,
    "tags": []
   },
   "outputs": [
    {
     "data": {
      "text/html": [
       "<div>\n",
       "<style scoped>\n",
       "    .dataframe tbody tr th:only-of-type {\n",
       "        vertical-align: middle;\n",
       "    }\n",
       "\n",
       "    .dataframe tbody tr th {\n",
       "        vertical-align: top;\n",
       "    }\n",
       "\n",
       "    .dataframe thead th {\n",
       "        text-align: right;\n",
       "    }\n",
       "</style>\n",
       "<table border=\"1\" class=\"dataframe\">\n",
       "  <thead>\n",
       "    <tr style=\"text-align: right;\">\n",
       "      <th></th>\n",
       "      <th>State Name</th>\n",
       "      <th>county Name</th>\n",
       "      <th>State Code</th>\n",
       "      <th>County Code</th>\n",
       "      <th>Date</th>\n",
       "      <th>AQI</th>\n",
       "      <th>Category</th>\n",
       "      <th>Defining Parameter</th>\n",
       "      <th>Defining Site</th>\n",
       "      <th>Number of Sites Reporting</th>\n",
       "    </tr>\n",
       "  </thead>\n",
       "  <tbody>\n",
       "    <tr>\n",
       "      <th>0</th>\n",
       "      <td>Alabama</td>\n",
       "      <td>Baldwin</td>\n",
       "      <td>1</td>\n",
       "      <td>3</td>\n",
       "      <td>2018-01-02</td>\n",
       "      <td>42</td>\n",
       "      <td>Good</td>\n",
       "      <td>PM2.5</td>\n",
       "      <td>01-003-0010</td>\n",
       "      <td>1</td>\n",
       "    </tr>\n",
       "    <tr>\n",
       "      <th>1</th>\n",
       "      <td>Alabama</td>\n",
       "      <td>Baldwin</td>\n",
       "      <td>1</td>\n",
       "      <td>3</td>\n",
       "      <td>2018-01-05</td>\n",
       "      <td>45</td>\n",
       "      <td>Good</td>\n",
       "      <td>PM2.5</td>\n",
       "      <td>01-003-0010</td>\n",
       "      <td>1</td>\n",
       "    </tr>\n",
       "    <tr>\n",
       "      <th>2</th>\n",
       "      <td>Alabama</td>\n",
       "      <td>Baldwin</td>\n",
       "      <td>1</td>\n",
       "      <td>3</td>\n",
       "      <td>2018-01-08</td>\n",
       "      <td>20</td>\n",
       "      <td>Good</td>\n",
       "      <td>PM2.5</td>\n",
       "      <td>01-003-0010</td>\n",
       "      <td>1</td>\n",
       "    </tr>\n",
       "    <tr>\n",
       "      <th>3</th>\n",
       "      <td>Alabama</td>\n",
       "      <td>Baldwin</td>\n",
       "      <td>1</td>\n",
       "      <td>3</td>\n",
       "      <td>2018-01-11</td>\n",
       "      <td>25</td>\n",
       "      <td>Good</td>\n",
       "      <td>PM2.5</td>\n",
       "      <td>01-003-0010</td>\n",
       "      <td>1</td>\n",
       "    </tr>\n",
       "    <tr>\n",
       "      <th>4</th>\n",
       "      <td>Alabama</td>\n",
       "      <td>Baldwin</td>\n",
       "      <td>1</td>\n",
       "      <td>3</td>\n",
       "      <td>2018-01-14</td>\n",
       "      <td>33</td>\n",
       "      <td>Good</td>\n",
       "      <td>PM2.5</td>\n",
       "      <td>01-003-0010</td>\n",
       "      <td>1</td>\n",
       "    </tr>\n",
       "  </tbody>\n",
       "</table>\n",
       "</div>"
      ],
      "text/plain": [
       "  State Name county Name  State Code  County Code        Date  AQI Category  \\\n",
       "0    Alabama     Baldwin           1            3  2018-01-02   42     Good   \n",
       "1    Alabama     Baldwin           1            3  2018-01-05   45     Good   \n",
       "2    Alabama     Baldwin           1            3  2018-01-08   20     Good   \n",
       "3    Alabama     Baldwin           1            3  2018-01-11   25     Good   \n",
       "4    Alabama     Baldwin           1            3  2018-01-14   33     Good   \n",
       "\n",
       "  Defining Parameter Defining Site  Number of Sites Reporting  \n",
       "0              PM2.5   01-003-0010                          1  \n",
       "1              PM2.5   01-003-0010                          1  \n",
       "2              PM2.5   01-003-0010                          1  \n",
       "3              PM2.5   01-003-0010                          1  \n",
       "4              PM2.5   01-003-0010                          1  "
      ]
     },
     "execution_count": 4,
     "metadata": {},
     "output_type": "execute_result"
    }
   ],
   "source": [
    "# b.\n",
    "aqi_18_head = aqi_18.head()\n",
    "aqi_18_head"
   ]
  },
  {
   "cell_type": "code",
   "execution_count": 5,
   "metadata": {
    "deletable": false,
    "editable": false,
    "tags": []
   },
   "outputs": [
    {
     "data": {
      "text/html": [
       "<p><strong><pre style='display: inline;'>q3_a</pre></strong> passed! 🍀</p>"
      ],
      "text/plain": [
       "q3_a results: All test cases passed!"
      ]
     },
     "execution_count": 5,
     "metadata": {},
     "output_type": "execute_result"
    }
   ],
   "source": [
    "grader.check(\"q3_a\")"
   ]
  },
  {
   "cell_type": "markdown",
   "metadata": {
    "deletable": false,
    "editable": false,
    "jp-MarkdownHeadingCollapsed": true
   },
   "source": [
    "<!-- BEGIN QUESTION -->\n",
    "\n",
    "c. Use this code cell to make some other preliminary data exploration of your choosing."
   ]
  },
  {
   "cell_type": "code",
   "execution_count": null,
   "metadata": {
    "deletable": false,
    "editable": false
   },
   "outputs": [],
   "source": []
  },
  {
   "cell_type": "code",
   "execution_count": 6,
   "metadata": {
    "tags": []
   },
   "outputs": [
    {
     "name": "stdout",
     "output_type": "stream",
     "text": [
      "<class 'pandas.core.frame.DataFrame'>\n",
      "RangeIndex: 326801 entries, 0 to 326800\n",
      "Data columns (total 10 columns):\n",
      " #   Column                     Non-Null Count   Dtype \n",
      "---  ------                     --------------   ----- \n",
      " 0   State Name                 326801 non-null  object\n",
      " 1   county Name                326801 non-null  object\n",
      " 2   State Code                 326801 non-null  int64 \n",
      " 3   County Code                326801 non-null  int64 \n",
      " 4   Date                       326801 non-null  object\n",
      " 5   AQI                        326801 non-null  int64 \n",
      " 6   Category                   326801 non-null  object\n",
      " 7   Defining Parameter         326801 non-null  object\n",
      " 8   Defining Site              326801 non-null  object\n",
      " 9   Number of Sites Reporting  326801 non-null  int64 \n",
      "dtypes: int64(4), object(6)\n",
      "memory usage: 24.9+ MB\n",
      "<class 'pandas.core.frame.DataFrame'>\n",
      "RangeIndex: 327541 entries, 0 to 327540\n",
      "Data columns (total 10 columns):\n",
      " #   Column                     Non-Null Count   Dtype \n",
      "---  ------                     --------------   ----- \n",
      " 0   State Name                 327541 non-null  object\n",
      " 1   county Name                327541 non-null  object\n",
      " 2   State Code                 327541 non-null  int64 \n",
      " 3   County Code                327541 non-null  int64 \n",
      " 4   Date                       327541 non-null  object\n",
      " 5   AQI                        327541 non-null  int64 \n",
      " 6   Category                   327541 non-null  object\n",
      " 7   Defining Parameter         327541 non-null  object\n",
      " 8   Defining Site              327541 non-null  object\n",
      " 9   Number of Sites Reporting  327541 non-null  int64 \n",
      "dtypes: int64(4), object(6)\n",
      "memory usage: 25.0+ MB\n"
     ]
    }
   ],
   "source": [
    "# Display the name, non-null count, and dtype for each column\n",
    "aqi_17.info()\n",
    "aqi_18.info()"
   ]
  },
  {
   "cell_type": "code",
   "execution_count": 7,
   "metadata": {
    "tags": []
   },
   "outputs": [
    {
     "data": {
      "text/plain": [
       "State Name                     54\n",
       "county Name                   796\n",
       "State Code                     54\n",
       "County Code                   160\n",
       "Date                          365\n",
       "AQI                           341\n",
       "Category                        6\n",
       "Defining Parameter              5\n",
       "Defining Site                2133\n",
       "Number of Sites Reporting      35\n",
       "dtype: int64"
      ]
     },
     "metadata": {},
     "output_type": "display_data"
    },
    {
     "data": {
      "text/plain": [
       "State Name                     54\n",
       "county Name                   793\n",
       "State Code                     54\n",
       "County Code                   160\n",
       "Date                          365\n",
       "AQI                           300\n",
       "Category                        6\n",
       "Defining Parameter              5\n",
       "Defining Site                2105\n",
       "Number of Sites Reporting      35\n",
       "dtype: int64"
      ]
     },
     "metadata": {},
     "output_type": "display_data"
    }
   ],
   "source": [
    "# Display the number of unique values\n",
    "display(aqi_17.nunique())\n",
    "display(aqi_18.nunique())"
   ]
  },
  {
   "cell_type": "code",
   "execution_count": 8,
   "metadata": {},
   "outputs": [
    {
     "data": {
      "text/plain": [
       "array(['Baldwin', 'Clay', 'Colbert', 'DeKalb', 'Elmore', 'Etowah',\n",
       "       'Houston', 'Jefferson', 'Lawrence', 'Madison', 'Mobile',\n",
       "       'Montgomery', 'Morgan', 'Russell', 'Shelby', 'Sumter', 'Talladega',\n",
       "       'Tuscaloosa', 'Aleutians East ', 'Anchorage ', 'Denali ',\n",
       "       'Fairbanks North Star ', 'Juneau ', 'Kenai Peninsula ',\n",
       "       'Matanuska-Susitna ', 'Apache', 'Cochise', 'Coconino', 'Gila',\n",
       "       'La Paz', 'Maricopa', 'Mohave', 'Navajo', 'Pima', 'Pinal',\n",
       "       'Santa Cruz', 'Yavapai', 'Yuma', 'Arkansas', 'Ashley', 'Clark',\n",
       "       'Crittenden', 'Garland', 'Jackson', 'Newton', 'Polk', 'Pulaski',\n",
       "       'Union', 'Washington', 'Alameda', 'Amador', 'Butte', 'Calaveras',\n",
       "       'Colusa', 'Contra Costa', 'Del Norte', 'El Dorado', 'Fresno',\n",
       "       'Glenn', 'Humboldt', 'Imperial', 'Inyo', 'Kern', 'Kings', 'Lake',\n",
       "       'Los Angeles', 'Madera', 'Marin', 'Mariposa', 'Mendocino',\n",
       "       'Merced', 'Mono', 'Monterey', 'Napa', 'Nevada', 'Orange', 'Placer',\n",
       "       'Plumas', 'Riverside', 'Sacramento', 'San Benito',\n",
       "       'San Bernardino', 'San Diego', 'San Francisco', 'San Joaquin',\n",
       "       'San Luis Obispo', 'San Mateo', 'Santa Barbara', 'Santa Clara',\n",
       "       'Shasta', 'Siskiyou', 'Solano', 'Sonoma', 'Stanislaus', 'Sutter',\n",
       "       'Tehama', 'Trinity', 'Tulare', 'Tuolumne', 'Ventura', 'Yolo',\n",
       "       'Adams', 'Alamosa', 'Arapahoe', 'Archuleta', 'Boulder', 'Chaffee',\n",
       "       'Clear Creek', 'Delta', 'Denver', 'Douglas', 'El Paso', 'Fremont',\n",
       "       'Garfield', 'Grand', 'Gunnison', 'La Plata', 'Larimer', 'Mesa',\n",
       "       'Moffat', 'Montezuma', 'Montrose', 'Park', 'Pitkin', 'Prowers',\n",
       "       'Pueblo', 'Rio Blanco', 'Routt', 'San Juan', 'San Miguel', 'Weld',\n",
       "       'Fairfield', 'Hartford', 'Litchfield', 'Middlesex', 'New Haven',\n",
       "       'New London', 'Tolland', 'Windham', 'BAJA CALIFORNIA NORTE',\n",
       "       'SONORA', 'Kent', 'New Castle', 'Sussex', 'District of Columbia',\n",
       "       'Alachua', 'Baker', 'Bay', 'Brevard', 'Broward', 'Citrus',\n",
       "       'Collier', 'Columbia', 'Duval', 'Escambia', 'Flagler', 'Hamilton',\n",
       "       'Highlands', 'Hillsborough', 'Holmes', 'Indian River', 'Lee',\n",
       "       'Leon', 'Liberty', 'Manatee', 'Marion', 'Martin', 'Miami-Dade',\n",
       "       'Nassau', 'Okaloosa', 'Osceola', 'Palm Beach', 'Pasco', 'Pinellas',\n",
       "       'Putnam', 'Santa Rosa', 'Sarasota', 'Seminole', 'St. Lucie',\n",
       "       'Volusia', 'Wakulla', 'Bibb', 'Charlton', 'Chatham', 'Chattooga',\n",
       "       'Clarke', 'Clayton', 'Cobb', 'Coffee', 'Coweta', 'Dawson',\n",
       "       'Dougherty', 'Floyd', 'Fulton', 'Glynn', 'Gwinnett', 'Hall',\n",
       "       'Henry', 'Lowndes', 'Murray', 'Muscogee', 'Paulding', 'Pike',\n",
       "       'Richmond', 'Rockdale', 'Walker', 'Hawaii', 'Honolulu', 'Kauai',\n",
       "       'Maui', 'Ada', 'Bannock', 'Benewah', 'Blaine', 'Boise', 'Bonner',\n",
       "       'Bonneville', 'Canyon', 'Custer', 'Franklin', 'Idaho', 'Jerome',\n",
       "       'Kootenai', 'Latah', 'Lemhi', 'Nez Perce', 'Shoshone',\n",
       "       'Twin Falls', 'Valley', 'Champaign', 'Cook', 'DuPage', 'Effingham',\n",
       "       'Jersey', 'Jo Daviess', 'Kane', 'Macon', 'Macoupin', 'McHenry',\n",
       "       'McLean', 'Peoria', 'Randolph', 'Rock Island', 'Saint Clair',\n",
       "       'Sangamon', 'Will', 'Winnebago', 'Allen', 'Bartholomew', 'Boone',\n",
       "       'Brown', 'Carroll', 'Delaware', 'Dubois', 'Elkhart', 'Greene',\n",
       "       'Hendricks', 'Howard', 'Huntington', 'Johnson', 'Knox', 'LaPorte',\n",
       "       'Monroe', 'Perry', 'Porter', 'Posey', 'Spencer', 'St. Joseph',\n",
       "       'Sullivan', 'Tippecanoe', 'Vanderburgh', 'Vigo', 'Wabash',\n",
       "       'Warrick', 'Whitley', 'Black Hawk', 'Bremer', 'Cerro Gordo',\n",
       "       'Clinton', 'Harrison', 'Linn', 'Muscatine', 'Palo Alto',\n",
       "       'Pottawattamie', 'Scott', 'Van Buren', 'Warren', 'Woodbury',\n",
       "       'Chase', 'Ford', 'Leavenworth', 'Neosho', 'Sedgwick', 'Shawnee',\n",
       "       'Sherman', 'Sumner', 'Trego', 'Wyandotte', 'Bell', 'Boyd',\n",
       "       'Bullitt', 'Campbell', 'Carter', 'Christian', 'Daviess',\n",
       "       'Edmonson', 'Fayette', 'Greenup', 'Hancock', 'Hardin', 'Henderson',\n",
       "       'Jessamine', 'Livingston', 'McCracken', 'Oldham', 'Simpson',\n",
       "       'Trigg', 'Ascension', 'Bossier', 'Caddo', 'Calcasieu',\n",
       "       'East Baton Rouge', 'Iberville', 'Lafayette', 'Lafourche',\n",
       "       'Orleans', 'Ouachita', 'Pointe Coupee', 'Rapides', 'St. Bernard',\n",
       "       'St. James', 'St. John the Baptist', 'St. Martin', 'St. Tammany',\n",
       "       'Tangipahoa', 'Terrebonne', 'West Baton Rouge', 'Androscoggin',\n",
       "       'Aroostook', 'Cumberland', 'Kennebec', 'Oxford', 'Penobscot',\n",
       "       'York', 'Anne Arundel', 'Baltimore', 'Baltimore (City)', 'Calvert',\n",
       "       'Cecil', 'Charles', 'Dorchester', 'Frederick', 'Garrett',\n",
       "       'Harford', \"Prince George's\", 'Barnstable', 'Berkshire', 'Bristol',\n",
       "       'Dukes', 'Essex', 'Hampden', 'Hampshire', 'Norfolk', 'Plymouth',\n",
       "       'Suffolk', 'Worcester', 'Allegan', 'Benzie', 'Berrien', 'Cass',\n",
       "       'Chippewa', 'Genesee', 'Huron', 'Ingham', 'Kalamazoo', 'Keweenaw',\n",
       "       'Lenawee', 'Macomb', 'Manistee', 'Mason', 'Missaukee', 'Muskegon',\n",
       "       'Oakland', 'Ottawa', 'Schoolcraft', 'St. Clair', 'Tuscola',\n",
       "       'Washtenaw', 'Wayne', 'Wexford', 'Anoka', 'Becker', 'Beltrami',\n",
       "       'Carlton', 'Crow Wing', 'Dakota', 'Goodhue', 'Hennepin', 'Lyon',\n",
       "       'Mille Lacs', 'Olmsted', 'Ramsey', 'Saint Louis', 'Stearns',\n",
       "       'Winona', 'Wright', 'Bolivar', 'DeSoto', 'Forrest', 'Grenada',\n",
       "       'Hinds', 'Lauderdale', 'Yalobusha', 'Andrew', 'Buchanan',\n",
       "       'Callaway', 'Cedar', 'Jasper', 'Lincoln', 'Saint Charles',\n",
       "       'Sainte Genevieve', 'St. Louis City', 'Stoddard', 'Taney',\n",
       "       'Cascade', 'Fergus', 'Flathead', 'Gallatin', 'Lewis and Clark',\n",
       "       'Missoula', 'Phillips', 'Powder River', 'Powell', 'Ravalli',\n",
       "       'Richland', 'Roosevelt', 'Rosebud', 'Sanders', 'Sheridan',\n",
       "       'Silver Bow', 'Yellowstone', 'Lancaster', 'Sarpy', 'Scotts Bluff',\n",
       "       'Thomas', 'Carson City', 'Churchill', 'Elko', 'Nye', 'Washoe',\n",
       "       'White Pine', 'Belknap', 'Cheshire', 'Coos', 'Grafton',\n",
       "       'Merrimack', 'Rockingham', 'Atlantic', 'Bergen', 'Camden',\n",
       "       'Gloucester', 'Hudson', 'Hunterdon', 'Mercer', 'Monmouth',\n",
       "       'Morris', 'Ocean', 'Passaic', 'Bernalillo', 'Catron', 'Chaves',\n",
       "       'Dona Ana', 'Eddy', 'Lea', 'Los Alamos', 'Luna', 'Rio Arriba',\n",
       "       'Sandoval', 'Santa Fe', 'Socorro', 'Taos', 'Valencia', 'Albany',\n",
       "       'Bronx', 'Chautauqua', 'Dutchess', 'Erie', 'Herkimer', 'New York',\n",
       "       'Niagara', 'Oneida', 'Onondaga', 'Oswego', 'Queens', 'Rockland',\n",
       "       'Saratoga', 'Steuben', 'Tompkins', 'Westchester', 'Alexander',\n",
       "       'Avery', 'Buncombe', 'Caldwell', 'Carteret', 'Caswell', 'Catawba',\n",
       "       'Davidson', 'Durham', 'Edgecombe', 'Forsyth', 'Graham',\n",
       "       'Granville', 'Guilford', 'Haywood', 'Hyde', 'Johnston', 'Lenoir',\n",
       "       'Mecklenburg', 'Mitchell', 'New Hanover', 'Person', 'Pitt',\n",
       "       'Rowan', 'Swain', 'Wake', 'Yancey', 'Billings', 'Burke',\n",
       "       'Burleigh', 'Dunn', 'McKenzie', 'Oliver', 'Stutsman', 'Ward',\n",
       "       'Williams', 'Ashtabula', 'Athens', 'Belmont', 'Butler', 'Clermont',\n",
       "       'Columbiana', 'Cuyahoga', 'Geauga', 'Licking', 'Lorain', 'Lucas',\n",
       "       'Mahoning', 'Medina', 'Miami', 'Noble', 'Portage', 'Preble',\n",
       "       'Scioto', 'Stark', 'Summit', 'Trumbull', 'Wood', 'Adair', 'Bryan',\n",
       "       'Canadian', 'Cherokee', 'Choctaw', 'Cleveland', 'Comanche',\n",
       "       'Creek', 'Dewey', 'Grady', 'Kay', 'Love', 'Mayes', 'McClain',\n",
       "       'Muskogee', 'Oklahoma', 'Osage', 'Pittsburg', 'Sequoyah', 'Tulsa',\n",
       "       'Benton', 'Clackamas', 'Crook', 'Deschutes', 'Grant', 'Harney',\n",
       "       'Josephine', 'Klamath', 'Lane', 'Multnomah', 'Umatilla', 'Wallowa',\n",
       "       'Wasco', 'Allegheny', 'Armstrong', 'Beaver', 'Berks', 'Blair',\n",
       "       'Bradford', 'Bucks', 'Cambria', 'Centre', 'Chester', 'Clearfield',\n",
       "       'Dauphin', 'Elk', 'Indiana', 'Lackawanna', 'Lebanon', 'Lehigh',\n",
       "       'Luzerne', 'Lycoming', 'Northampton', 'Philadelphia', 'Somerset',\n",
       "       'Tioga', 'Westmoreland', 'Adjuntas', 'Bayamon', 'Caguas', 'Catano',\n",
       "       'Fajardo', 'Guayama', 'Guayanilla', 'Guaynabo', 'Juncos', 'Ponce',\n",
       "       'Providence', 'Abbeville', 'Aiken', 'Anderson', 'Berkeley',\n",
       "       'Charleston', 'Chesterfield', 'Colleton', 'Darlington',\n",
       "       'Edgefield', 'Florence', 'Georgetown', 'Greenville', 'Horry',\n",
       "       'Lexington', 'Oconee', 'Pickens', 'Spartanburg', 'Brookings',\n",
       "       'Codington', 'Hughes', 'Meade', 'Minnehaha', 'Pennington',\n",
       "       'Blount', 'Claiborne', 'Dyer', 'Loudon', 'Maury', 'McMinn',\n",
       "       'Roane', 'Sevier', 'Williamson', 'Wilson', 'Bexar', 'Bowie',\n",
       "       'Brazoria', 'Brewster', 'Cameron', 'Collin', 'Culberson', 'Dallas',\n",
       "       'Denton', 'Ector', 'Ellis', 'Galveston', 'Gregg', 'Harris',\n",
       "       'Hidalgo', 'Hood', 'Hunt', 'Kaufman', 'Kleberg', 'Lubbock',\n",
       "       'Maverick', 'McLennan', 'Navarro', 'Nueces', 'Parker', 'Potter',\n",
       "       'Randall', 'Rockwall', 'Smith', 'Tarrant', 'Travis', 'Victoria',\n",
       "       'Webb', 'Box Elder', 'Cache', 'Carbon', 'Davis', 'Duchesne',\n",
       "       'Salt Lake', 'Tooele', 'Uintah', 'Utah', 'Weber', 'Bennington',\n",
       "       'Chittenden', 'Rutland', 'St Croix', 'St John', 'Albemarle',\n",
       "       'Alexandria City', 'Arlington', 'Bristol City', 'Caroline',\n",
       "       'Fairfax', 'Fauquier', 'Fredericksburg City', 'Giles',\n",
       "       'Hampton City', 'Hanover', 'Henrico', 'Hopewell City', 'Loudoun',\n",
       "       'Lynchburg City', 'Norfolk City', 'Prince Edward',\n",
       "       'Prince William', 'Richmond City', 'Roanoke', 'Rockbridge',\n",
       "       'Salem City', 'Stafford', 'Suffolk City', 'Virginia Beach City',\n",
       "       'Winchester City', 'Wythe', 'Asotin', 'Chelan', 'Clallam',\n",
       "       'Cowlitz', 'Grays Harbor', 'King', 'Kitsap', 'Kittitas',\n",
       "       'Klickitat', 'Lewis', 'Okanogan', 'Pierce', 'Skagit', 'Snohomish',\n",
       "       'Spokane', 'Stevens', 'Thurston', 'Walla Walla', 'Whatcom',\n",
       "       'Whitman', 'Yakima', 'Brooke', 'Cabell', 'Gilmer', 'Greenbrier',\n",
       "       'Kanawha', 'Marshall', 'Monongalia', 'Ohio', 'Tucker', 'Ashland',\n",
       "       'Dane', 'Dodge', 'Door', 'Eau Claire', 'Fond du Lac', 'Forest',\n",
       "       'Kenosha', 'Kewaunee', 'La Crosse', 'Manitowoc', 'Marathon',\n",
       "       'Milwaukee', 'Outagamie', 'Ozaukee', 'Racine', 'Rock', 'Sauk',\n",
       "       'Sheboygan', 'Taylor', 'Vilas', 'Walworth', 'Waukesha', 'Big Horn',\n",
       "       'Converse', 'Laramie', 'Natrona', 'Platte', 'Sublette',\n",
       "       'Sweetwater', 'Teton', 'Uinta', 'Weston'], dtype=object)"
      ]
     },
     "metadata": {},
     "output_type": "display_data"
    },
    {
     "data": {
      "text/plain": [
       "array([  3,  27,  33,  49,  51,  55,  69,  73,  79,  89,  97, 101, 103,\n",
       "       113, 117, 119, 121, 125,  13,  20,  68,  90, 110, 122, 170,   1,\n",
       "         5,   7,  12,  15,  17,  19,  21,  23,  25,  35,  67, 139, 143,\n",
       "         9,  11,  29,  31,  37,  39,  41,  43,  45,  47,  53,  57,  59,\n",
       "        61,  63,  65,  71,  75,  77,  81,  83,  85,  87,  93,  95,  99,\n",
       "       105, 107, 109, 111, 123,   2,  26,  86,  91, 115, 127, 129, 135,\n",
       "       151, 153, 185, 213, 215, 223, 231, 245, 247, 261, 295, 303, 157,\n",
       "       161, 163, 167, 197, 201, 145, 147, 141, 169, 173, 183, 137, 155,\n",
       "       177, 181, 193, 133, 191, 195, 209, 175, 199, 221, 227, 229, 510,\n",
       "       165, 171, 189, 186, 207,  28, 159, 179, 187, 149, 203, 251, 257,\n",
       "       273, 323, 309, 339, 349, 355, 361, 367, 373, 375, 381, 397, 423,\n",
       "       439, 453, 469, 479,  10, 520,  36, 630, 650, 670, 680, 710, 760,\n",
       "       775, 800, 810, 840])"
      ]
     },
     "metadata": {},
     "output_type": "display_data"
    },
    {
     "data": {
      "text/html": [
       "<div>\n",
       "<style scoped>\n",
       "    .dataframe tbody tr th:only-of-type {\n",
       "        vertical-align: middle;\n",
       "    }\n",
       "\n",
       "    .dataframe tbody tr th {\n",
       "        vertical-align: top;\n",
       "    }\n",
       "\n",
       "    .dataframe thead th {\n",
       "        text-align: right;\n",
       "    }\n",
       "</style>\n",
       "<table border=\"1\" class=\"dataframe\">\n",
       "  <thead>\n",
       "    <tr style=\"text-align: right;\">\n",
       "      <th></th>\n",
       "      <th>State Name</th>\n",
       "      <th>county Name</th>\n",
       "      <th>State Code</th>\n",
       "      <th>County Code</th>\n",
       "      <th>Date</th>\n",
       "      <th>AQI</th>\n",
       "      <th>Category</th>\n",
       "      <th>Defining Parameter</th>\n",
       "      <th>Defining Site</th>\n",
       "      <th>Number of Sites Reporting</th>\n",
       "    </tr>\n",
       "  </thead>\n",
       "  <tbody>\n",
       "  </tbody>\n",
       "</table>\n",
       "</div>"
      ],
      "text/plain": [
       "Empty DataFrame\n",
       "Columns: [State Name, county Name, State Code, County Code, Date, AQI, Category, Defining Parameter, Defining Site, Number of Sites Reporting]\n",
       "Index: []"
      ]
     },
     "metadata": {},
     "output_type": "display_data"
    }
   ],
   "source": [
    "# View the unique county names, and unique county codes\n",
    "display(aqi_17['county Name'].unique())\n",
    "display(aqi_17['County Code'].unique())\n",
    "\n",
    "# Make sure there are no empty values in the code or name columns\n",
    "display(aqi_17[(aqi_17['County Code'] == \"\") | (aqi_17['county Name'] == \"\")])\n",
    "\n"
   ]
  },
  {
   "cell_type": "code",
   "execution_count": 9,
   "metadata": {
    "tags": []
   },
   "outputs": [
    {
     "data": {
      "text/plain": [
       "array(['Good', 'Moderate', 'Unhealthy for Sensitive Groups', 'Unhealthy',\n",
       "       'Very Unhealthy', 'Hazardous'], dtype=object)"
      ]
     },
     "metadata": {},
     "output_type": "display_data"
    },
    {
     "data": {
      "text/plain": [
       "array(['Good', 'Moderate', 'Unhealthy', 'Unhealthy for Sensitive Groups',\n",
       "       'Very Unhealthy', 'Hazardous'], dtype=object)"
      ]
     },
     "metadata": {},
     "output_type": "display_data"
    }
   ],
   "source": [
    "# Display the different categories\n",
    "display(aqi_17['Category'].unique())\n",
    "display(aqi_18['Category'].unique())"
   ]
  },
  {
   "cell_type": "markdown",
   "metadata": {
    "deletable": false,
    "editable": false
   },
   "source": [
    "<!-- END QUESTION -->\n",
    "\n",
    "<!-- BEGIN QUESTION -->\n",
    "\n",
    "d. Use this markdown cell to explain why you decided to do the exploration in c. and what information you obtained from doing it."
   ]
  },
  {
   "cell_type": "markdown",
   "metadata": {
    "deletable": false,
    "editable": false
   },
   "source": []
  },
  {
   "cell_type": "markdown",
   "metadata": {},
   "source": [
    "I started with `.info()` again to see the number of non-null values and the datatype of each column. This demonstrated that all the columns contained the expected datatypes. I then printed the number of unique values from each column. From these results I noted that the number of unique state codes was equal to the number of unique states, but the number of unique county names was not even close to the number of unique county codes. We saw in previous explorations that both of these columns have the same number of non null values and after inspecting the county names we can see that there are no obvious alternatively defined missing values or empty ones. To me this suggests that the Country Codes are reused accross states."
   ]
  },
  {
   "cell_type": "markdown",
   "metadata": {
    "deletable": false,
    "editable": false
   },
   "source": [
    "<!-- END QUESTION -->\n",
    "\n",
    "## 4\n",
    "We currently have two separate data frames. For this exercise we will need to \"glue\" them one on top of the other. The `pandas` function `pd.concat()` can achieve this. \n",
    "\n",
    "Pass `[aqi_17, aqi_18]` as the input of `pd.concat()` and store the output as  `aqi`.  \n",
    "In the next line run `aqi`.\n",
    "\n",
    "NOTE: When we concatenate data frames like this, without any extra parameters for `pd.concat()` the indices for the two dataframes are just \"glued together\", the index of the resulting dataframe is not updated to start from 0. Notice the mismatch between the index of `aqi` and the number of rows i the complete data frame.\n"
   ]
  },
  {
   "cell_type": "code",
   "execution_count": 19,
   "metadata": {
    "tags": []
   },
   "outputs": [
    {
     "data": {
      "text/html": [
       "<div>\n",
       "<style scoped>\n",
       "    .dataframe tbody tr th:only-of-type {\n",
       "        vertical-align: middle;\n",
       "    }\n",
       "\n",
       "    .dataframe tbody tr th {\n",
       "        vertical-align: top;\n",
       "    }\n",
       "\n",
       "    .dataframe thead th {\n",
       "        text-align: right;\n",
       "    }\n",
       "</style>\n",
       "<table border=\"1\" class=\"dataframe\">\n",
       "  <thead>\n",
       "    <tr style=\"text-align: right;\">\n",
       "      <th></th>\n",
       "      <th>State Name</th>\n",
       "      <th>county Name</th>\n",
       "      <th>State Code</th>\n",
       "      <th>County Code</th>\n",
       "      <th>Date</th>\n",
       "      <th>AQI</th>\n",
       "      <th>Category</th>\n",
       "      <th>Defining Parameter</th>\n",
       "      <th>Defining Site</th>\n",
       "      <th>Number of Sites Reporting</th>\n",
       "    </tr>\n",
       "  </thead>\n",
       "  <tbody>\n",
       "    <tr>\n",
       "      <th>0</th>\n",
       "      <td>Alabama</td>\n",
       "      <td>Baldwin</td>\n",
       "      <td>1</td>\n",
       "      <td>3</td>\n",
       "      <td>2017-01-01</td>\n",
       "      <td>28</td>\n",
       "      <td>Good</td>\n",
       "      <td>PM2.5</td>\n",
       "      <td>01-003-0010</td>\n",
       "      <td>1</td>\n",
       "    </tr>\n",
       "    <tr>\n",
       "      <th>1</th>\n",
       "      <td>Alabama</td>\n",
       "      <td>Baldwin</td>\n",
       "      <td>1</td>\n",
       "      <td>3</td>\n",
       "      <td>2017-01-04</td>\n",
       "      <td>29</td>\n",
       "      <td>Good</td>\n",
       "      <td>PM2.5</td>\n",
       "      <td>01-003-0010</td>\n",
       "      <td>1</td>\n",
       "    </tr>\n",
       "    <tr>\n",
       "      <th>2</th>\n",
       "      <td>Alabama</td>\n",
       "      <td>Baldwin</td>\n",
       "      <td>1</td>\n",
       "      <td>3</td>\n",
       "      <td>2017-01-10</td>\n",
       "      <td>25</td>\n",
       "      <td>Good</td>\n",
       "      <td>PM2.5</td>\n",
       "      <td>01-003-0010</td>\n",
       "      <td>1</td>\n",
       "    </tr>\n",
       "    <tr>\n",
       "      <th>3</th>\n",
       "      <td>Alabama</td>\n",
       "      <td>Baldwin</td>\n",
       "      <td>1</td>\n",
       "      <td>3</td>\n",
       "      <td>2017-01-13</td>\n",
       "      <td>40</td>\n",
       "      <td>Good</td>\n",
       "      <td>PM2.5</td>\n",
       "      <td>01-003-0010</td>\n",
       "      <td>1</td>\n",
       "    </tr>\n",
       "    <tr>\n",
       "      <th>4</th>\n",
       "      <td>Alabama</td>\n",
       "      <td>Baldwin</td>\n",
       "      <td>1</td>\n",
       "      <td>3</td>\n",
       "      <td>2017-01-16</td>\n",
       "      <td>22</td>\n",
       "      <td>Good</td>\n",
       "      <td>PM2.5</td>\n",
       "      <td>01-003-0010</td>\n",
       "      <td>1</td>\n",
       "    </tr>\n",
       "    <tr>\n",
       "      <th>...</th>\n",
       "      <td>...</td>\n",
       "      <td>...</td>\n",
       "      <td>...</td>\n",
       "      <td>...</td>\n",
       "      <td>...</td>\n",
       "      <td>...</td>\n",
       "      <td>...</td>\n",
       "      <td>...</td>\n",
       "      <td>...</td>\n",
       "      <td>...</td>\n",
       "    </tr>\n",
       "    <tr>\n",
       "      <th>327536</th>\n",
       "      <td>Wyoming</td>\n",
       "      <td>Weston</td>\n",
       "      <td>56</td>\n",
       "      <td>45</td>\n",
       "      <td>2018-12-27</td>\n",
       "      <td>36</td>\n",
       "      <td>Good</td>\n",
       "      <td>Ozone</td>\n",
       "      <td>56-045-0003</td>\n",
       "      <td>1</td>\n",
       "    </tr>\n",
       "    <tr>\n",
       "      <th>327537</th>\n",
       "      <td>Wyoming</td>\n",
       "      <td>Weston</td>\n",
       "      <td>56</td>\n",
       "      <td>45</td>\n",
       "      <td>2018-12-28</td>\n",
       "      <td>35</td>\n",
       "      <td>Good</td>\n",
       "      <td>Ozone</td>\n",
       "      <td>56-045-0003</td>\n",
       "      <td>1</td>\n",
       "    </tr>\n",
       "    <tr>\n",
       "      <th>327538</th>\n",
       "      <td>Wyoming</td>\n",
       "      <td>Weston</td>\n",
       "      <td>56</td>\n",
       "      <td>45</td>\n",
       "      <td>2018-12-29</td>\n",
       "      <td>35</td>\n",
       "      <td>Good</td>\n",
       "      <td>Ozone</td>\n",
       "      <td>56-045-0003</td>\n",
       "      <td>1</td>\n",
       "    </tr>\n",
       "    <tr>\n",
       "      <th>327539</th>\n",
       "      <td>Wyoming</td>\n",
       "      <td>Weston</td>\n",
       "      <td>56</td>\n",
       "      <td>45</td>\n",
       "      <td>2018-12-30</td>\n",
       "      <td>31</td>\n",
       "      <td>Good</td>\n",
       "      <td>Ozone</td>\n",
       "      <td>56-045-0003</td>\n",
       "      <td>1</td>\n",
       "    </tr>\n",
       "    <tr>\n",
       "      <th>327540</th>\n",
       "      <td>Wyoming</td>\n",
       "      <td>Weston</td>\n",
       "      <td>56</td>\n",
       "      <td>45</td>\n",
       "      <td>2018-12-31</td>\n",
       "      <td>35</td>\n",
       "      <td>Good</td>\n",
       "      <td>Ozone</td>\n",
       "      <td>56-045-0003</td>\n",
       "      <td>1</td>\n",
       "    </tr>\n",
       "  </tbody>\n",
       "</table>\n",
       "<p>654342 rows × 10 columns</p>\n",
       "</div>"
      ],
      "text/plain": [
       "       State Name county Name  State Code  County Code        Date  AQI  \\\n",
       "0         Alabama     Baldwin           1            3  2017-01-01   28   \n",
       "1         Alabama     Baldwin           1            3  2017-01-04   29   \n",
       "2         Alabama     Baldwin           1            3  2017-01-10   25   \n",
       "3         Alabama     Baldwin           1            3  2017-01-13   40   \n",
       "4         Alabama     Baldwin           1            3  2017-01-16   22   \n",
       "...           ...         ...         ...          ...         ...  ...   \n",
       "327536    Wyoming      Weston          56           45  2018-12-27   36   \n",
       "327537    Wyoming      Weston          56           45  2018-12-28   35   \n",
       "327538    Wyoming      Weston          56           45  2018-12-29   35   \n",
       "327539    Wyoming      Weston          56           45  2018-12-30   31   \n",
       "327540    Wyoming      Weston          56           45  2018-12-31   35   \n",
       "\n",
       "       Category Defining Parameter Defining Site  Number of Sites Reporting  \n",
       "0          Good              PM2.5   01-003-0010                          1  \n",
       "1          Good              PM2.5   01-003-0010                          1  \n",
       "2          Good              PM2.5   01-003-0010                          1  \n",
       "3          Good              PM2.5   01-003-0010                          1  \n",
       "4          Good              PM2.5   01-003-0010                          1  \n",
       "...         ...                ...           ...                        ...  \n",
       "327536     Good              Ozone   56-045-0003                          1  \n",
       "327537     Good              Ozone   56-045-0003                          1  \n",
       "327538     Good              Ozone   56-045-0003                          1  \n",
       "327539     Good              Ozone   56-045-0003                          1  \n",
       "327540     Good              Ozone   56-045-0003                          1  \n",
       "\n",
       "[654342 rows x 10 columns]"
      ]
     },
     "execution_count": 19,
     "metadata": {},
     "output_type": "execute_result"
    }
   ],
   "source": [
    "aqi = pd.concat([aqi_17, aqi_18])\n",
    "aqi"
   ]
  },
  {
   "cell_type": "code",
   "execution_count": 11,
   "metadata": {
    "deletable": false,
    "editable": false
   },
   "outputs": [
    {
     "data": {
      "text/html": [
       "<p><strong><pre style='display: inline;'>q4</pre></strong> passed! 🌟</p>"
      ],
      "text/plain": [
       "q4 results: All test cases passed!"
      ]
     },
     "execution_count": 11,
     "metadata": {},
     "output_type": "execute_result"
    }
   ],
   "source": [
    "grader.check(\"q4\")"
   ]
  },
  {
   "cell_type": "markdown",
   "metadata": {
    "deletable": false,
    "editable": false
   },
   "source": [
    "<!-- BEGIN QUESTION -->\n",
    "\n",
    "## 5\n",
    "\n",
    "Run the following code cell and use the next markdown cell to give a line by line explanation of the code below the comment \"#Simplify column names\". You might need to look up the `pandas` documentation."
   ]
  },
  {
   "cell_type": "code",
   "execution_count": 12,
   "metadata": {
    "deletable": false,
    "editable": false,
    "tags": []
   },
   "outputs": [
    {
     "name": "stdout",
     "output_type": "stream",
     "text": [
      "Index(['State Name', 'county Name', 'State Code', 'County Code', 'Date', 'AQI',\n",
      "       'Category', 'Defining Parameter', 'Defining Site',\n",
      "       'Number of Sites Reporting'],\n",
      "      dtype='object') \n",
      "\n",
      "Index(['state_name', 'county_name', 'state_code', 'county_code', 'date', 'aqi',\n",
      "       'category', 'defining_parameter', 'defining_site',\n",
      "       'number_of_sites_reporting'],\n",
      "      dtype='object') \n",
      "\n"
     ]
    }
   ],
   "source": [
    "# Initial column names: notice caps and spaces (difficult to work with!)\n",
    "print(aqi.columns, '\\n')\n",
    "\n",
    "# Simplify column names\n",
    "aqi.columns = (aqi.columns\n",
    "                  .str.lower()\n",
    "                  .str.replace(' ','_')\n",
    "                )\n",
    "print(aqi.columns, '\\n')"
   ]
  },
  {
   "cell_type": "markdown",
   "metadata": {},
   "source": [
    "This code modifies the column names (as a pandas.core.indexes.base.Index) of our dataframe. `.str.low()` makes all alphabetic values in each name lower case and `.str.replace()` looks for spaces in the names and replaces them with underscores. The code then prints the column names again with a newline after."
   ]
  },
  {
   "cell_type": "markdown",
   "metadata": {
    "deletable": false,
    "editable": false
   },
   "source": [
    "<!-- END QUESTION -->\n",
    "\n",
    "## 6\n",
    "In the next code cell:\n",
    "\n",
    "a. Select only data from `Santa Barbara` county and store it in a new variable `aqi_sb`.\n",
    "\n",
    "b. Remove the `state_name`, `county_name`, `state_code` and `county_code` columns from `aqi_sb`.\n",
    "\n",
    "Your dataframe should have the following columns in this order: `date`, `aqi`, `category`, `defining_parameter`, `defining_stie`, `number_of_sites_reporting`. "
   ]
  },
  {
   "cell_type": "code",
   "execution_count": 13,
   "metadata": {
    "tags": []
   },
   "outputs": [
    {
     "data": {
      "text/plain": [
       "Ellipsis"
      ]
     },
     "execution_count": 13,
     "metadata": {},
     "output_type": "execute_result"
    }
   ],
   "source": [
    "# Select only data from Santa Barbara county and store it in a new variable\n",
    "aqi_sb = aqi[aqi[county_name] == \"Santa Barbara\"]\n",
    "\n",
    "# Remove the state and county descriptor columns from the filtered data\n",
    "aqi_sb = ...\n",
    "aqi_sb"
   ]
  },
  {
   "cell_type": "code",
   "execution_count": 14,
   "metadata": {
    "deletable": false,
    "editable": false
   },
   "outputs": [
    {
     "data": {
      "text/html": [
       "<p><strong><pre style='display: inline;'>q6a</pre></strong> passed! 🍀</p>"
      ],
      "text/plain": [
       "q6a results: All test cases passed!"
      ]
     },
     "execution_count": 14,
     "metadata": {},
     "output_type": "execute_result"
    }
   ],
   "source": [
    "grader.check(\"q6a\")"
   ]
  },
  {
   "cell_type": "markdown",
   "metadata": {
    "deletable": false,
    "editable": false
   },
   "source": [
    " \n",
    "c. What is the data type of the `date` column? Write your answer in the markdown cell below. "
   ]
  },
  {
   "cell_type": "markdown",
   "metadata": {
    "deletable": false,
    "editable": false,
    "tags": []
   },
   "source": [
    "*Your answer here.*"
   ]
  },
  {
   "cell_type": "code",
   "execution_count": 15,
   "metadata": {
    "tags": []
   },
   "outputs": [
    {
     "data": {
      "text/plain": [
       "Ellipsis"
      ]
     },
     "execution_count": 15,
     "metadata": {},
     "output_type": "execute_result"
    }
   ],
   "source": [
    "...\n"
   ]
  },
  {
   "cell_type": "markdown",
   "metadata": {
    "deletable": false,
    "editable": false
   },
   "source": [
    "<!-- BEGIN QUESTION -->\n",
    "\n",
    "## 7\n",
    "In the following cell:\n",
    "1. Update the date column of `aqi_sb` to be a `pandas.datetime` object.\n",
    "2. Update the index of `aqi_sb` to be the `date` column."
   ]
  },
  {
   "cell_type": "code",
   "execution_count": 16,
   "metadata": {
    "editable": true,
    "slideshow": {
     "slide_type": ""
    },
    "tags": [
     "remove-cell"
    ]
   },
   "outputs": [
    {
     "ename": "AttributeError",
     "evalue": "'ellipsis' object has no attribute 'date'",
     "output_type": "error",
     "traceback": [
      "\u001b[0;31m---------------------------------------------------------------------------\u001b[0m",
      "\u001b[0;31mAttributeError\u001b[0m                            Traceback (most recent call last)",
      "Cell \u001b[0;32mIn[16], line 1\u001b[0m\n\u001b[0;32m----> 1\u001b[0m \u001b[43maqi_sb\u001b[49m\u001b[38;5;241;43m.\u001b[39;49m\u001b[43mdate\u001b[49m \u001b[38;5;241m=\u001b[39m \u001b[38;5;241m.\u001b[39m\u001b[38;5;241m.\u001b[39m\u001b[38;5;241m.\u001b[39m\n\u001b[1;32m      2\u001b[0m aqi_sb \u001b[38;5;241m=\u001b[39m \u001b[38;5;241m.\u001b[39m\u001b[38;5;241m.\u001b[39m\u001b[38;5;241m.\u001b[39m\n\u001b[1;32m      3\u001b[0m aqi_sb\n",
      "\u001b[0;31mAttributeError\u001b[0m: 'ellipsis' object has no attribute 'date'"
     ]
    }
   ],
   "source": [
    "aqi_sb.date = ...\n",
    "aqi_sb = ...\n",
    "aqi_sb"
   ]
  },
  {
   "cell_type": "markdown",
   "metadata": {
    "deletable": false,
    "editable": false
   },
   "source": [
    "<!-- END QUESTION -->\n",
    "\n",
    "## 8\n",
    "In the next cell we will calculate an average over a [rolling window](https://pandas.pydata.org/pandas-docs/stable/reference/api/pandas.Series.rolling.html) using the `rolling()`method for `pandas.Series`:\n",
    "\n",
    "- `rolling()` is a lazy method, so we need to specify what we want to calculate over each window before it does something. \n",
    "- in this example we use the aggregator function `mean()` to calculate the average over each window\n",
    "- the parameter '5D' indicates we want the window for our rolling average to be 5 days. \n",
    "- we get a `pandas.Series` as ouput\n",
    "\n",
    "Store your answer in the `rolling_average` variable. You should have two columns in your series, `date` and the averages. "
   ]
  },
  {
   "cell_type": "code",
   "execution_count": null,
   "metadata": {
    "tags": []
   },
   "outputs": [],
   "source": [
    "# Calculate AQI rolling average over 5 days\n",
    "rolling_average = ...\n",
    "rolling_average"
   ]
  },
  {
   "cell_type": "code",
   "execution_count": null,
   "metadata": {
    "deletable": false,
    "editable": false
   },
   "outputs": [],
   "source": [
    "grader.check(\"q8\")"
   ]
  },
  {
   "cell_type": "markdown",
   "metadata": {
    "deletable": false,
    "editable": false
   },
   "source": [
    "## 9 \n",
    "\n",
    "Without creating any new variables, add the mean of the AQI over a 5-day rolling window as a new column named `five_day_average` to the `aqi_sb` dataframe. "
   ]
  },
  {
   "cell_type": "code",
   "execution_count": null,
   "metadata": {
    "tags": []
   },
   "outputs": [],
   "source": [
    "aqi_sb"
   ]
  },
  {
   "cell_type": "code",
   "execution_count": null,
   "metadata": {
    "deletable": false,
    "editable": false
   },
   "outputs": [],
   "source": [
    "grader.check(\"q9\")"
   ]
  },
  {
   "cell_type": "markdown",
   "metadata": {
    "deletable": false,
    "editable": false
   },
   "source": [
    "<!-- BEGIN QUESTION -->\n",
    "\n",
    "## 10\n",
    "Make a line plot showing both the daily AQI and the 5-day average (5-day average on top of the AQI). Make necessary updates for the plot to be accurate, informative, and polished, even if simple. You're welcome to use plotting methods and packages beyond what we have covered in class! \n",
    "\n",
    "Can you see the AQI going up during the Thomas Fire in December 2017?"
   ]
  },
  {
   "cell_type": "markdown",
   "metadata": {
    "tags": []
   },
   "source": [
    "---\n",
    "\n",
    "To double-check your work, the cell below will rerun all of the autograder tests."
   ]
  },
  {
   "cell_type": "code",
   "execution_count": null,
   "metadata": {},
   "outputs": [],
   "source": [
    "grader.check_all()"
   ]
  },
  {
   "cell_type": "markdown",
   "metadata": {
    "deletable": false,
    "editable": false,
    "tags": []
   },
   "source": [
    "<!-- END QUESTION -->\n",
    "\n",
    "## 11\n",
    "\n",
    "\n",
    "Collect all the relevant code into the first blank cell of the notebook titled \"COMPLETE WORKFLOW\". This single cell will have the end-to-end workflow: from importing libraries and loading the data, to producing the graph. The *only* ouput of this cell should be the graph you produced in the previous exercise. Further guidance on what to include in this final workflow is in the [assignment rubric](https://docs.google.com/document/d/1x0BoU6IH4cnOR1-n7i9CYQ9wUC37yDpYlQ4j6rCfcsU/edit?tab=t.0)."
   ]
  }
 ],
 "metadata": {
  "kernelspec": {
   "display_name": "EDS220",
   "language": "python",
   "name": "eds220-env"
  },
  "language_info": {
   "codemirror_mode": {
    "name": "ipython",
    "version": 3
   },
   "file_extension": ".py",
   "mimetype": "text/x-python",
   "name": "python",
   "nbconvert_exporter": "python",
   "pygments_lexer": "ipython3",
   "version": "3.11.4"
  },
  "vscode": {
   "interpreter": {
    "hash": "4d9c35c8115062f8f91024dabb290da02183a26877d6f60ace8c62884141c720"
   }
  }
 },
 "nbformat": 4,
 "nbformat_minor": 4
}
